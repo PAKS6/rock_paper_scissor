{
 "cells": [
  {
   "cell_type": "code",
   "execution_count": 4,
   "id": "5e301f49",
   "metadata": {},
   "outputs": [
    {
     "name": "stdout",
     "output_type": "stream",
     "text": [
      "Enter a choice rock, paper or scissor:  rock\n",
      "I_Choose=rock\n",
      "computer choice =2\n",
      "computer_choice=scissor\n",
      "You lose.\n",
      "do you wish to continue? (Y/N)y\n",
      "Enter a choice rock, paper or scissor:  paper\n",
      "I_Choose=paper\n",
      "computer choice =2\n",
      "computer_choice=scissor\n",
      "You lose.\n",
      "do you wish to continue? (Y/N)N\n",
      "Game is over\n"
     ]
    }
   ],
   "source": [
    "choices=[\"rock\", \"paper\", \"scissor\"]\n",
    "cont= \"y\"\n",
    "while cont==\"y\":\n",
    "    I_Choose = input(\"Enter a choice rock, paper or scissor:  \")\n",
    "    rock=0\n",
    "    paper=1\n",
    "    scissor=2\n",
    "    print(f\"I_Choose={I_Choose}\")\n",
    "\n",
    "    import random\n",
    "    computer_choice=random.randint(0,2)\n",
    "    print(f\"computer choice ={computer_choice}\")\n",
    "    if (computer_choice == 0):\n",
    "        print(f\"computer_choice=rock\") \n",
    "    if (computer_choice == 1):\n",
    "        print(f\"computer_choice=paper\")\n",
    "    if (computer_choice == 2):\n",
    "        print(f\"computer_choice=scissor\")\n",
    "    \n",
    "    \n",
    "    if I_Choose == computer_choice:\n",
    "        print(\"It's a draw.\") \n",
    "    elif (I_Choose == \"rock\" and computer_choice == \"scissor\"): \n",
    "        print(\"You win!\")\n",
    "    elif (I_Choose == \"scissor\" and computer_choice == \"paper\"):\n",
    "        print(\"You win!\")\n",
    "    elif (I_Choose == \"paper\" and computer_choice == \"rock\"):\n",
    "        print(\"You win!\")\n",
    "    else:\n",
    "        print(\"You lose.\")\n",
    "    \n",
    "    cont=input(\"do you wish to continue? (Y/N)\")\n",
    "print(\"Game is over\")"
   ]
  },
  {
   "cell_type": "code",
   "execution_count": null,
   "id": "595034f6",
   "metadata": {},
   "outputs": [],
   "source": []
  }
 ],
 "metadata": {
  "kernelspec": {
   "display_name": "Python 3 (ipykernel)",
   "language": "python",
   "name": "python3"
  },
  "language_info": {
   "codemirror_mode": {
    "name": "ipython",
    "version": 3
   },
   "file_extension": ".py",
   "mimetype": "text/x-python",
   "name": "python",
   "nbconvert_exporter": "python",
   "pygments_lexer": "ipython3",
   "version": "3.9.7"
  }
 },
 "nbformat": 4,
 "nbformat_minor": 5
}
